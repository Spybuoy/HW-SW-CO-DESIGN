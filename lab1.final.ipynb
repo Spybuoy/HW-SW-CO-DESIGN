{
  "cells": [
    {
      "cell_type": "markdown",
      "metadata": {
        "id": "w1roov2_frUg"
      },
      "source": [
        "# Introduction to PyTorch"
      ]
    },
    {
      "cell_type": "markdown",
      "metadata": {
        "id": "TYV5TaFZfrUh"
      },
      "source": [
        "## Introduction\n",
        "\n",
        "In this notebook, you will become familiar with PyTorch and relevant tools on a Google Colab instance.\n",
        "\n",
        "Follow, complete and submit this notebook to canvas to complete lab 1: Introduction to PyTorch.\n",
        "\n",
        "This notebook is organized into the following steps:\n",
        "\n",
        "1. Setup an environment ready for machine learning research\n",
        "2. Validate a preexisting VGG model and report its accuracy\n",
        "3. Train and validate your own neural network model\n",
        "4. Explore effects of overfitting on validation accuracy"
      ]
    },
    {
      "cell_type": "markdown",
      "metadata": {
        "id": "NTL6wDlmfrUi"
      },
      "source": [
        "## Import and Constants Setup"
      ]
    },
    {
      "cell_type": "code",
      "execution_count": 1,
      "metadata": {
        "scrolled": true,
        "tags": [],
        "id": "ZNrnwlVMfrUj",
        "outputId": "ecb349bd-ef3c-4d49-bc73-7d8bad48cfcd",
        "colab": {
          "base_uri": "https://localhost:8080/"
        }
      },
      "outputs": [
        {
          "output_type": "stream",
          "name": "stdout",
          "text": [
            "PyTorch Version:  1.12.1+cu113\n",
            "Torchvision Version:  0.13.1+cu113\n"
          ]
        }
      ],
      "source": [
        "import torch\n",
        "import torch.nn as nn\n",
        "import torchvision\n",
        "import numpy as np\n",
        "from torchvision import datasets, models, transforms\n",
        "from pathlib import Path\n",
        "print(\"PyTorch Version: \", torch.__version__)\n",
        "print(\"Torchvision Version: \", torchvision.__version__)\n",
        "data_dir = Path('./data')\n",
        "net_fn = Path('./net')"
      ]
    },
    {
      "cell_type": "markdown",
      "metadata": {
        "id": "48j9XZw_frUk"
      },
      "source": [
        "## Reproducibility"
      ]
    },
    {
      "cell_type": "code",
      "execution_count": 2,
      "metadata": {
        "id": "B5zpvQ3ffrUq"
      },
      "outputs": [],
      "source": [
        "torch.manual_seed(0)\n",
        "np.random.seed(0)"
      ]
    },
    {
      "cell_type": "markdown",
      "metadata": {
        "tags": [],
        "id": "gCoNq-qFfrUr"
      },
      "source": [
        "## Pytorch 101: Training a Neural Network\n",
        "\n",
        "For this section of the lab, we will be using the CIFAR10 dataset. CIFAR10 consists of the following 10 classes: airplane, automobile, bird, cat, deer, dog, frog, horse, ship, and truck.\n",
        "\n",
        "![CIFAR10 Examples](images/cifar10.png)\n",
        "\n",
        "This lab section consists of some code blocks and text from [this](https://pytorch.org/tutorials/beginner/blitz/cifar10_tutorial.html) Pytorch tutorial. This lab has the following steps:\n",
        "\n",
        "* Loading the CIFAR10 training and test datasets using a torchvision dataloader\n",
        "* Define a convolutional neural network\n",
        "* Define a loss function\n",
        "* Use Pytorch's data loader and pre-processing support\n",
        "* Train the network on the CIFAR10 training data\n",
        "* Test the network on the CIFAR10 validation data\n",
        "* Calculate the top-1 and top-2 accuracy\n",
        "\n",
        "### Preparing CIFAR10 Data\n",
        "\n",
        "To prepare the data, we must create a transform, dataset and dataloader.\n",
        "\n",
        "The transform turns the image into a tensor object as well as performs image transformations such as normalization or cropping. The transformations are all preprocessing techniques that occur before the neural network is validated or trained.\n",
        "\n",
        "The normalization method takes a mean and a standard deviation for each channel. The first list is the mean for each channel. The second list is the standard deviation for each channel. We normalize the input images to [-1, 1].\n",
        "\n",
        "Cropping or other shape-based transformations alter the shape of the image to fit into the input space of the neural network. In this case, we are modifying the dataset to fit into the input size.\n",
        "\n",
        "With CIFAR10, torchvision can directly download the dataset for us; so, we will let torchvision download the dataset by setting `download=True`."
      ]
    },
    {
      "cell_type": "code",
      "execution_count": 3,
      "metadata": {
        "tags": [],
        "id": "5DFIAeVJfrUs"
      },
      "outputs": [],
      "source": [
        "import torch\n",
        "import torchvision\n",
        "import torchvision.transforms as transforms\n",
        "import torch.optim as optim\n",
        "transform = transforms.Compose(\n",
        "    [transforms.ToTensor(),\n",
        "     transforms.Normalize((0.5, 0.5, 0.5), (0.5, 0.5, 0.5))])"
      ]
    },
    {
      "cell_type": "markdown",
      "metadata": {
        "id": "UM6gbaPqfrUt"
      },
      "source": [
        "Next is creating the `trainset` and `trainloader`. `trainset` applies our transform of the images as well as derives image and label tuples from the folder hierarchy and/or file naming. `trainloader` provides sampling and further iterator support for the `trainset`. An example of the sampling feature is in the code below where shuffling is enabled. Mini-batches can also be enabled to reduce the sample count. The clean iterator support that `dataloader` provides will be shown later."
      ]
    },
    {
      "cell_type": "code",
      "execution_count": 4,
      "metadata": {
        "id": "7W5SPhkdfrUu",
        "outputId": "3a2511fd-c2a6-4079-c76f-d728e6f67b52",
        "colab": {
          "base_uri": "https://localhost:8080/"
        }
      },
      "outputs": [
        {
          "output_type": "stream",
          "name": "stdout",
          "text": [
            "Files already downloaded and verified\n"
          ]
        }
      ],
      "source": [
        "trainset = torchvision.datasets.CIFAR10(root='./data', train=True,\n",
        "                                        download=True, transform=transform)\n",
        "trainloader = torch.utils.data.DataLoader(trainset, batch_size=4,\n",
        "                                          shuffle=True, num_workers=2)\n",
        "                                \n",
        "classes = ('plane', 'car', 'bird', 'cat',\n",
        "           'deer', 'dog', 'frog', 'horse', 'ship', 'truck')"
      ]
    },
    {
      "cell_type": "markdown",
      "metadata": {
        "tags": [],
        "id": "lInbpYMpfrUu"
      },
      "source": [
        "### Defining a Convolutional Neural Network\n",
        "\n",
        "In this section, we will create a convolutional neural network with one convolutional layer, a pooling layer, and three fully connected layers. The neural network is a `Net` class. Notice how the image dimension of each fully connected layer map to the same domain as the inputs of the next fully connected layer. E.g. `fc1`'s output is the same dimension of `fc2`s input."
      ]
    },
    {
      "cell_type": "code",
      "execution_count": 5,
      "metadata": {
        "tags": [],
        "id": "GNO7ivS8frUv",
        "outputId": "c0e22452-1ee9-4a2c-d73a-d1c971321bfc",
        "colab": {
          "base_uri": "https://localhost:8080/"
        }
      },
      "outputs": [
        {
          "output_type": "stream",
          "name": "stdout",
          "text": [
            "Net(\n",
            "  (conv1): Conv2d(3, 6, kernel_size=(5, 5), stride=(1, 1))\n",
            "  (pool): MaxPool2d(kernel_size=2, stride=2, padding=0, dilation=1, ceil_mode=False)\n",
            "  (conv2): Conv2d(6, 16, kernel_size=(5, 5), stride=(1, 1))\n",
            "  (fc1): Linear(in_features=400, out_features=120, bias=True)\n",
            "  (fc2): Linear(in_features=120, out_features=84, bias=True)\n",
            "  (fc3): Linear(in_features=84, out_features=10, bias=True)\n",
            ")\n"
          ]
        }
      ],
      "source": [
        "import torch.nn as nn\n",
        "import torch.nn.functional as F\n",
        "\n",
        "\n",
        "class Net(nn.Module):\n",
        "    def __init__(self):\n",
        "        super(Net, self).__init__()\n",
        "        self.conv1 = nn.Conv2d(3, 6, 5)\n",
        "        self.pool = nn.MaxPool2d(2, 2)\n",
        "        self.conv2 = nn.Conv2d(6, 16, 5)\n",
        "        self.fc1 = nn.Linear(16 * 5 * 5, 120)\n",
        "        self.fc2 = nn.Linear(120, 84)\n",
        "        self.fc3 = nn.Linear(84, 10)\n",
        "\n",
        "    def forward(self, x):\n",
        "        x = self.pool(F.relu(self.conv1(x)))\n",
        "        x = self.pool(F.relu(self.conv2(x)))\n",
        "        x = x.view(-1, 16 * 5 * 5)\n",
        "        x = F.relu(self.fc1(x))\n",
        "        x = F.relu(self.fc2(x))\n",
        "        x = self.fc3(x)\n",
        "        return x\n",
        "\n",
        "\n",
        "net = Net()\n",
        "print(net)"
      ]
    },
    {
      "cell_type": "markdown",
      "metadata": {
        "id": "KXgHco8TfrUv"
      },
      "source": [
        "### Define a Loss Function and an Optimizer (Question 1)\n",
        "\n",
        "In this case, we will be using Cross-Entropy loss function. For the optimizer, we will be using SGD with momentum. For this section (and as an exercise in document reading) create a loss function variable called `criterion` and construct the loss function with default values. Further, create a optimizer called `optimizer` constructed with a SGD with the following non-default values: a learning rate of 0.001 and momentum of 0.9."
      ]
    },
    {
      "cell_type": "code",
      "execution_count": 6,
      "metadata": {
        "id": "0BoE_7vwfrUw"
      },
      "outputs": [],
      "source": [
        "criterion = nn.CrossEntropyLoss() # TODO create criterion\n",
        "optimizer = optim.SGD(net.parameters(), lr=0.001, momentum=0.9) # TODO create optimizer"
      ]
    },
    {
      "cell_type": "markdown",
      "metadata": {
        "id": "fsH3alNkfrUw"
      },
      "source": [
        "### Train the Network\n",
        "\n",
        "To train the network, use the following code. There's a few things to note from this code. First, we are using two epochs; that is, the same data is looped through twice. Second, we gather an input and a label for each inner loop iteration. Third, the training calculations themselves are in only four functions: `net()`, `criterion()`, `loss.backward()` and `optimizer.step()`.\n",
        "\n",
        "As training this network takes a few minutes, once you've trained this network once, we will save it and load it if this cell is ever executed again. This will prevent you from having to wait the entire run when running through the notebook before submission. **If you have changed the criterion or optimizer and need to rerun the code, delete the file found at `./net`.**"
      ]
    },
    {
      "cell_type": "code",
      "execution_count": 19,
      "metadata": {
        "tags": [],
        "id": "Xm8QqJRhfrUx",
        "outputId": "da2ccfad-45dd-4dcd-a4f8-8d02055517d6",
        "colab": {
          "base_uri": "https://localhost:8080/"
        }
      },
      "outputs": [
        {
          "output_type": "stream",
          "name": "stdout",
          "text": [
            "Finished Training. Saved network\n"
          ]
        }
      ],
      "source": [
        "num_epochs = 4\n",
        "\n",
        "if Path(net_fn).is_file():\n",
        "    net.load_state_dict(torch.load(net_fn)) # load file if previously executed\n",
        "    print(\"Skipped Training. Loaded network\")\n",
        "else:\n",
        "    for epoch in range(num_epochs):\n",
        "        running_loss = 0.0\n",
        "        # this allows us to get an index from a foreach loop\n",
        "        for i, data in enumerate(trainloader, 0):\n",
        "            # data is a list of [inputs, labels]\n",
        "            inputs, labels = data\n",
        "\n",
        "            # Zero parameter gradients\n",
        "            optimizer.zero_grad()\n",
        "\n",
        "            # Go forward, backward then optimize\n",
        "            outputs = net(inputs)   # forward\n",
        "            loss = criterion(outputs, labels)   # calculate loss\n",
        "            loss.backward()         # backward\n",
        "            optimizer.step()\n",
        "\n",
        "            # print statistics\n",
        "            running_loss += loss.item()\n",
        "            if i % (4000 / num_epochs) == (4000 / num_epochs) - 1:\n",
        "                print(f'[{epoch + 1}, {i + 1:5d}] loss: {(running_loss / (4000 / num_epochs)):.3f}')\n",
        "                running_loss = 0.0\n",
        "    \n",
        "    torch.save(net.state_dict(), net_fn)\n",
        "    print('Finished Training. Saved network')\n"
      ]
    },
    {
      "cell_type": "markdown",
      "metadata": {
        "tags": [],
        "id": "vx1lrCyRfrUx"
      },
      "source": [
        "### Validating the Network on Test Data\n",
        "\n",
        "#### Question 2\n",
        "\n",
        "Next, we will validate the network just created on validation or test data. First, create the validation dataset and dataloader below using the training equivalents as inspiration. Assume a batch_size of 4 and 4 workers."
      ]
    },
    {
      "cell_type": "code",
      "execution_count": 20,
      "metadata": {
        "tags": [],
        "id": "tnJB1r4tfrUx",
        "colab": {
          "base_uri": "https://localhost:8080/"
        },
        "outputId": "7ff19a84-3a00-4a96-c994-8cef554c725a"
      },
      "outputs": [
        {
          "output_type": "stream",
          "name": "stdout",
          "text": [
            "Files already downloaded and verified\n"
          ]
        }
      ],
      "source": [
        "testset = torchvision.datasets.CIFAR10(root='./data', train=True,\n",
        "                                        download=True, transform=transform) # TODO create test set\n",
        "testloader = torch.utils.data.DataLoader(trainset, batch_size=4,\n",
        "                                          shuffle=True, num_workers=4) # TODO create test loader"
      ]
    },
    {
      "cell_type": "markdown",
      "metadata": {
        "id": "6Co2GmzCfrUx"
      },
      "source": [
        "Then, run the following example code which may help develop an intuition towards network validation and prepare you to validate the network on your own."
      ]
    },
    {
      "cell_type": "code",
      "execution_count": 21,
      "metadata": {
        "tags": [],
        "id": "XcpoNUd8frUy",
        "colab": {
          "base_uri": "https://localhost:8080/",
          "height": 173
        },
        "outputId": "f04519f1-e40d-482b-fa16-745276c6570f"
      },
      "outputs": [
        {
          "output_type": "display_data",
          "data": {
            "text/plain": [
              "<Figure size 432x288 with 1 Axes>"
            ],
            "image/png": "[encoded data removed]"
          },
          "metadata": {
            "needs_background": "light"
          }
        },
        {
          "output_type": "stream",
          "name": "stdout",
          "text": [
            "GroundTruth:\t cat   deer  ship  frog \n",
            "Predicted:\t cat   deer  ship  frog \n"
          ]
        }
      ],
      "source": [
        "import matplotlib.pyplot as plt\n",
        "import numpy as np\n",
        "\n",
        "# functions to show an image\n",
        "def imshow(img):\n",
        "    img = img / 2 + 0.5     # unnormalize\n",
        "    npimg = img.numpy()\n",
        "    plt.imshow(np.transpose(npimg, (1, 2, 0)))\n",
        "    plt.show()\n",
        "\n",
        "dataiter = iter(testloader)\n",
        "images, labels = dataiter.next()\n",
        "\n",
        "# print images and the ground truth\n",
        "imshow(torchvision.utils.make_grid(images))\n",
        "print('GroundTruth:\\t', ' '.join(f'{classes[labels[j]]:5s}' for j in range(4)))\n",
        "\n",
        "# Get the output for such inputs\n",
        "outputs = net(images)\n",
        "_, predicted = torch.max(outputs, 1)\n",
        "print('Predicted:\\t', ' '.join(f'{classes[predicted[j]]:5s}' for j in range(4)))"
      ]
    },
    {
      "cell_type": "markdown",
      "metadata": {
        "tags": [],
        "id": "TpZIjkpFfrUy"
      },
      "source": [
        "You should see four images, the ground truth and the predicted values. Notice that both `labels` and `predicted` are an index into the `class` set. That is, `labels` and `predicted` each point to a class. When they both point to the same class, we have predicted the label and guessed correctly.\n",
        "\n",
        "Validation is an equivalent process to what we manually did in the above example. Validation is checking if the inputs and labels match. To see this, we must first set the model to evaluation mode. Then, we can iterate through the dataloader and check if the network's prediction matches the label of the data.\n",
        "\n",
        "#### Question 3\n",
        "\n",
        "For the rest of this section, write and run Python that outputs the top-1 accuracy and top-2 accuracy of your neural network. Your accuracies should be assigned to `my_top1` and `my_top2`."
      ]
    },
    {
      "cell_type": "code",
      "execution_count": 22,
      "metadata": {
        "tags": [],
        "id": "3aL4oZZAfrUy",
        "colab": {
          "base_uri": "https://localhost:8080/"
        },
        "outputId": "77e4faae-7ad5-4c16-f354-a85e95aa99af"
      },
      "outputs": [
        {
          "output_type": "stream",
          "name": "stdout",
          "text": [
            "Top-1 Accuracy -- Actual: 73.08% By Chance: 10.00%\n",
            "Top-2 Accuracy -- Actual: 87.94% By Chance: 20.00%\n"
          ]
        }
      ],
      "source": [
        "# TODO Modify to return top 1 and top 2 accuracy.\n",
        "# Currently returns top 1 accuracy\n",
        "def validate_model(model, dataloader,  n = None):\n",
        "    \n",
        "    # Set to evaluation mode rather than training mode\n",
        "    model.eval()\n",
        "\n",
        "    top1 = 0\n",
        "    top2 = 0\n",
        "    total = 0\n",
        "\n",
        "    # Iterate over data stopping early if n is set\n",
        "    for i, (inputs, labels) in enumerate(dataloader):\n",
        "        if (n is not None and i >= n):\n",
        "            break\n",
        "\n",
        "        # Run the model and collect the top 2 outputs.\n",
        "        outputs = model(inputs)\n",
        "       # _, predicted = outputs.max(outputs, 1)\n",
        "        _, predicted_1 = torch.topk(outputs,1, largest=True, sorted=True)\n",
        "        # TODO Change to return top 2 arguments (search topk documentation)\n",
        "        _, predicted_2 = torch.topk(outputs,2, largest=True, sorted=True)\n",
        "        labels_new = labels.view(-1,1)\n",
        "        # Gather statistics\n",
        "        top1 += torch.sum(predicted_1[:,0] == labels.data)\n",
        "        # TODO Calculate Top 2 accuracy\n",
        "        top2 += torch.eq(predicted_2, labels_new).sum().float().item()\n",
        "\n",
        "        total += torch.sum(predicted_1[:,0] == labels.data)\n",
        "        total += torch.sum(predicted_1[:,0] != labels.data)\n",
        "    \n",
        "    top1_acc = 100 * top1.double() / total\n",
        "    top2_acc = 100 * top2 / total\n",
        "    return (top1_acc, top2_acc)\n",
        "\n",
        "my_top1_acc_chance = 10 # TODO replace with accuracy if you were picking labels by chance\n",
        "my_top2_acc_chance = 20 # TODO replace with accuracy if you were picking labels by chance\n",
        "my_top1_acc, my_top2_acc = validate_model(net, testloader)\n",
        "print(f'Top-1 Accuracy -- Actual: {my_top1_acc:.2f}% By Chance: {my_top1_acc_chance:.2f}%')\n",
        "print(f'Top-2 Accuracy -- Actual: {my_top2_acc:.2f}% By Chance: {my_top2_acc_chance:.2f}%')"
      ]
    },
    {
      "cell_type": "markdown",
      "source": [
        "top1%,top2%<br>1-49.23,70.0<br>2-59.50, 79.03<br>3-67.08,83.78<br>4-73.27, 88.01<br>5-76.04, 89.99"
      ],
      "metadata": {
        "id": "VLsMZ3TXogIj"
      }
    },
    {
      "cell_type": "markdown",
      "metadata": {
        "id": "8OS6Yc8jfrUy"
      },
      "source": [
        "What would be the accuracy if the neural networks were picking labels by chance for both top-1 and top-2 accuracy? How do your results compare to the results by chance?\n",
        "\n",
        "**TODO Write answer here**<br> The top2 accuracy would be higher than the top1. <br> Given that we have 10 classes (From : classes = ('plane', 'car', 'bird', 'cat',\n",
        "           'deer', 'dog', 'frog', 'horse', 'ship', 'truck'), if the nn picks classes randomly by chance, then the chance of it being correct would be 1/10, so accuracy for top1 would be 10%. <br> In case of top2, the first or second class are to be correct, (1/10)+(1/10) = 2/10. Accuracy_top2 = 20%. "
      ]
    },
    {
      "cell_type": "markdown",
      "metadata": {
        "id": "tWTcvjWkfrU0"
      },
      "source": [
        "## Overfitting\n",
        "\n",
        "As discussed in lecture, overfitting describes the cause of the gap between the training and validation errors. We will explore how validation accuracy changes as we intentionally overfit the model.\n",
        "\n",
        "### Question 4\n",
        "\n",
        "Train five different models each with a unique number of training epochs from 1-5 and batch size == 4. Then, report their top-1 and top-2 validation accuracy. "
      ]
    },
    {
      "cell_type": "code",
      "execution_count": 23,
      "metadata": {
        "id": "KVnRH4XrfrU0"
      },
      "outputs": [],
      "source": [
        "# TODO train five different models with five different epochs\n",
        "# TODO save the top-1 and top-2 accuracy of each model to the below list with index 0 being a model trained with 1 epoch\n",
        "val_top1_accuracies = [49.23, 59.50, 67.08, 73.27, 76.04]\n",
        "val_top2_accuracies = [70.0, 79.03, 83.78, 88.01, 89.99]"
      ]
    },
    {
      "cell_type": "markdown",
      "metadata": {
        "id": "xqq_TpGefrU0"
      },
      "source": [
        "After training, you may wish to save the training results in a unique file. See the training example above to see how to do this with `torch.save()`."
      ]
    },
    {
      "cell_type": "markdown",
      "metadata": {
        "id": "CvNz4XVgfrU0"
      },
      "source": [
        "### Question 5\n",
        "\n",
        "Plot the top-1 and top-2 accuracy versus number of training epochs using `matplotlib`. Consider reading the `matplotlib` official documentation [here](https://matplotlib.org/stable/api/_as_gen/matplotlib.pyplot.bar.html) or a guide [here](https://www.geeksforgeeks.org/bar-plot-in-matplotlib/).\n",
        "\n",
        "* Place the number of training epochs in the X-axis. \n",
        "* Use a bar graph. \n",
        "* Label the axis. \n",
        "* Add a title"
      ]
    },
    {
      "cell_type": "code",
      "execution_count": 24,
      "metadata": {
        "id": "_OGzF0Z_frU0",
        "colab": {
          "base_uri": "https://localhost:8080/",
          "height": 312
        },
        "outputId": "e3fc3b2d-9986-4f69-cfbf-3897a11f4366"
      },
      "outputs": [
        {
          "output_type": "execute_result",
          "data": {
            "text/plain": [
              "<matplotlib.legend.Legend at 0x7f95dc1abe90>"
            ]
          },
          "metadata": {},
          "execution_count": 24
        },
        {
          "output_type": "display_data",
          "data": {
            "text/plain": [
              "<Figure size 432x288 with 1 Axes>"
            ],
            "image/png": "[encoded data removed]"
          },
          "metadata": {
            "needs_background": "light"
          }
        }
      ],
      "source": [
        "# TODO Plot using matplotlib\n",
        "x = [1,2,3,4,5]\n",
        "x_new = [each+0.125 for each in x]\n",
        "x_new_left = [each-0.125 for each in x]\n",
        "y1 = val_top1_accuracies\n",
        "y2 = val_top2_accuracies\n",
        "plt.bar(x_new_left,y1,0.25,label = 'top1_acc')\n",
        "plt.bar(x_new,y2,0.25, label = 'top2_acc')\n",
        "plt.xlabel(\"no of training epochs\")\n",
        "plt.ylabel(\"accuracy%\")\n",
        "plt.ylim(40,100)\n",
        "plt.title(\"no of training epochs vs accuracy\")\n",
        "plt.legend(loc = 'best')"
      ]
    },
    {
      "cell_type": "markdown",
      "source": [
        "What happened to the top-1 and top-2 validation accuracy as the number of training epochs increases? How should we improve the validation results?\n",
        "\n",
        "**TODO Write answer here** <br>\n",
        "The accuracy increased as the number of epochs increased. And then it does not increase by much. But higher accuracy does not mean a better model. There is a high possibility of overfitting (or in simpler terms, the model remembering data instead of learning the patterns).\n",
        "<br>  To improve validation, we can introduce aberrations in the input data. We can use data augmentation, introduce noise, etc. Even droppingout neurons will work."
      ],
      "metadata": {
        "id": "bs6iYubLiA9n"
      }
    },
    {
      "cell_type": "markdown",
      "metadata": {
        "id": "VAUMyZ1tfrU0"
      },
      "source": [
        "## Conclusion\n",
        "\n",
        "By completing this lab, you have trained and validated your own machine learning model and explored the effects of overfitting on a network."
      ]
    }
  ],
  "metadata": {
    "kernelspec": {
      "display_name": "Python 3.8.10 64-bit (system)",
      "language": "python",
      "name": "python3"
    },
    "language_info": {
      "codemirror_mode": {
        "name": "ipython",
        "version": 3
      },
      "file_extension": ".py",
      "mimetype": "text/x-python",
      "name": "python",
      "nbconvert_exporter": "python",
      "pygments_lexer": "ipython3",
      "version": "3.8.10"
    },
    "vscode": {
      "interpreter": {
        "hash": "8b271dbb36234f4623c1e2fe089f73d4c995cae63a926094021991566cd99df4"
      }
    },
    "colab": {
      "provenance": [],
      "collapsed_sections": []
    },
    "accelerator": "GPU"
  },
  "nbformat": 4,
  "nbformat_minor": 0
}